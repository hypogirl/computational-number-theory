{
 "cells": [
  {
   "cell_type": "markdown",
   "metadata": {
    "collapsed": false
   },
   "source": [
    "<h1>\n",
    "    Using the Gordon method to generate a strong prime number\n",
    "</h1>"
   ]
  },
  {
   "cell_type": "code",
   "execution_count": 15,
   "metadata": {
    "cocalc": {
     "outputs": {
      "0": {
       "name": "input",
       "opts": {
        "password": false,
        "prompt": "Number of bits?"
       },
       "output_type": "stream",
       "value": "20"
      }
     }
    },
    "collapsed": false
   },
   "outputs": [
    {
     "name": "stdout",
     "output_type": "stream",
     "text": [
      "Number of bits? 20"
     ]
    },
    {
     "name": "stdout",
     "output_type": "stream",
     "text": [
      "\n",
      "strong_prime = 32222573 \n",
      "\n",
      "\n",
      "Iteration 1:\n",
      "            s = 1021; bits = 10\n",
      "            t = 449; bits = 9\n",
      "            r = 3593; bits = 12\n",
      "            prime_number = 3197771; bits = 10; strong prime? False\n",
      "        \n",
      "Iteration 2:\n",
      "            s = 683; bits = 10\n",
      "            t = 421; bits = 9\n",
      "            r = 4211; bits = 13\n",
      "            prime_number = 32222573; bits = 10; strong prime? True\n",
      "        \n"
     ]
    }
   ],
   "source": [
    "import math\n",
    "logs = list()\n",
    "\n",
    "def is_strong_prime(n):\n",
    "    i = n\n",
    "    j = n\n",
    "    while True:\n",
    "        i+=1\n",
    "        if is_prime(i):\n",
    "            break\n",
    "    while True:\n",
    "        j-=1\n",
    "        if is_prime(j):\n",
    "            break\n",
    "    return n > (i+j)/2\n",
    "\n",
    "def gordon(nbits):\n",
    "    #1\n",
    "    s = 0\n",
    "    t = 64\n",
    "    while (s.nbits() <= t.nbits()):\n",
    "        s = random_prime(int(pow(2,math.floor(nbits/2))))\n",
    "        t = random_prime(int(pow(2,math.floor(nbits/2-1))))\n",
    "    #2\n",
    "    i = 0\n",
    "    while True:\n",
    "        r = 2*i*t + 1\n",
    "        if is_prime(r):\n",
    "            break\n",
    "        i += 1\n",
    "    #3\n",
    "    p0 = 2*int(pow(s,r-2,r))*s - 1\n",
    "    #4\n",
    "    j = 0\n",
    "    while True:\n",
    "        p = p0 + 2*j*r*s\n",
    "        if is_prime(p):\n",
    "            break\n",
    "        j += 1\n",
    "    #5\n",
    "    logs.append([(s,s.nbits()),(t,t.nbits()),(r,r.nbits()),(p,p.nbits(), is_strong_prime(p))])\n",
    "    if not(is_strong_prime(p)):\n",
    "        return gordon(nbits)\n",
    "    return p\n",
    "\n",
    "def log_print():\n",
    "    i = 0\n",
    "    for entry in logs:\n",
    "        i+=1\n",
    "        log_str = f\"\"\"Iteration {str(i)}:\n",
    "            s = {entry[0][0]}; bits = {entry[0][1]}\n",
    "            t = {entry[1][0]}; bits = {entry[1][1]}\n",
    "            r = {entry[2][0]}; bits = {entry[2][1]}\n",
    "            prime_number = {entry[3][0]}; bits = {entry[3][1]}; strong prime? {entry[3][2]}\n",
    "        \"\"\"\n",
    "        print(log_str)\n",
    "\n",
    "def main(bits):\n",
    "    if nbits <= 3:\n",
    "        print(\"\\nnbits needs to be greater than 3.\")\n",
    "        return\n",
    "    print(\"\\nstrong_prime =\",gordon(nbits),\"\\n\\n\")\n",
    "    return log_print()\n",
    "\n",
    "nbits = int(input(\"Number of bits?\"))\n",
    "main(nbits)"
   ]
  }
 ],
 "metadata": {
  "kernelspec": {
   "display_name": "SageMath 9.2",
   "language": "sagemath",
   "metadata": {
    "cocalc": {
     "description": "Open-source mathematical software system",
     "priority": 1,
     "url": "https://www.sagemath.org/"
    }
   },
   "name": "sage-9.2",
   "resource_dir": "/ext/jupyter/kernels/sage-9.2"
  },
  "language_info": {
   "codemirror_mode": {
    "name": "ipython",
    "version": 3
   },
   "file_extension": ".py",
   "mimetype": "text/x-python",
   "name": "python",
   "nbconvert_exporter": "python",
   "pygments_lexer": "ipython3",
   "version": "3.8.10"
  }
 },
 "nbformat": 4,
 "nbformat_minor": 4
}
