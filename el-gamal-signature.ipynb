{
 "cells": [
  {
   "cell_type": "markdown",
   "metadata": {},
   "source": [
    "<h1>\n",
    "    ElGamal Digital Signature\n",
    "</h1>"
   ]
  },
  {
   "cell_type": "code",
   "execution_count": 1,
   "metadata": {
    "collapsed": false
   },
   "outputs": [],
   "source": [
    "import hashlib\n",
    "load(\"hw1.sage\")"
   ]
  },
  {
   "cell_type": "code",
   "execution_count": 3,
   "metadata": {
    "collapsed": false
   },
   "outputs": [
    {
     "name": "stdout",
     "output_type": "stream",
     "text": [
      "Original message: 495859058490548350\n",
      "Message's hash: 28448972993724103655303897335260485929418759951525454647139487377957485796134\n",
      "\n",
      "Public Key: (100881377423415789336915122299941839376057414711100805672262668012491402791540989772851154611, 100666819555033072396717288741964819681576380947916914254061521388550715181879471725621757609, 61530495265748243437601257609502587504248699648467133380300622337520353971393606705820118596) \n",
      "Private Key (100881377423415789336915122299941839376057414711100805672262668012491402791540989772851154611, 100666819555033072396717288741964819681576380947916914254061521388550715181879471725621757609, 34861660591230683370054822315753712857165286787100664055922407004685412533620682918628432907)\n",
      "Signature: (93541074503413906345461781951334949620238064229520712107373856661798428902352245410495676139, 57708213346414382007646279493679575313838961345540716244564568221752946098720825077624705893)\n",
      "\n",
      "Verified signature? True\n"
     ]
    }
   ],
   "source": [
    "def generate_keys(nbits):\n",
    "    p = gordon(nbits)\n",
    "    Zp = IntegerModRing(p)\n",
    "    Zp_minus_one = IntegerModRing(p-1)\n",
    "    a = int(Zp.random_element())\n",
    "    x = Zp_minus_one.random_element()\n",
    "    while gcd(x,p-1) != 1:\n",
    "        x = Zp_minus_one.random_element()\n",
    "    x = int(x)\n",
    "    c = power_mod(a,x,p)\n",
    "    return (p,a,c),(p,a,x)\n",
    "\n",
    "def sign(PrivateKey, m):\n",
    "    encoded_m = m.encode()\n",
    "    hash_m = int(hashlib.sha256(encoded_m).hexdigest(),16)\n",
    "    p,a,x = PrivateKey\n",
    "    Zp_minus_one = IntegerModRing(p-1)\n",
    "    k = Zp_minus_one.random_element()\n",
    "    while gcd(k,p-1) != 1:\n",
    "        k = Zp_minus_one.random_element()\n",
    "    k = int(k)\n",
    "    r = power_mod(a,k,p)\n",
    "    inverse_k = 1/k\n",
    "    l = inverse_k % (p - 1)\n",
    "    s = int(l*(hash_m - r*x) % (p - 1))\n",
    "    return (r,s), hash_m\n",
    "\n",
    "def verify(PublicKey,signature,m):\n",
    "    (p,a,c),(r,s) = PublicKey, signature\n",
    "    if r >= p or r == 0:\n",
    "        return False\n",
    "    v1 = power_mod(c,r,p) * power_mod(r,s,p) % p\n",
    "    v2 = power_mod(a,m,p)\n",
    "    return v1 == v2\n",
    "\n",
    "def main():\n",
    "    message = '495859058490548350'\n",
    "    nbits = 300\n",
    "    if nbits < 256:\n",
    "        print(\"Warning: Number of bits should be greater than 256.\\n\")\n",
    "    PublicKey,PrivateKey = generate_keys(nbits)\n",
    "    signature,hash_m = sign(PrivateKey,message)\n",
    "    verification = verify(PublicKey,signature,hash_m)\n",
    "    print(\"Original message:\", message)\n",
    "    print(\"Message's hash:\", hash_m)\n",
    "    print(\"\\nPublic Key:\",PublicKey,\"\\nPrivate Key\",PrivateKey)\n",
    "    print(\"Signature:\",signature)\n",
    "    print(\"\\nVerified signature?\",verification)\n",
    "    \n",
    "main()"
   ]
  },
  {
   "cell_type": "code",
   "execution_count": null,
   "metadata": {
    "collapsed": false
   },
   "outputs": [],
   "source": []
  }
 ],
 "metadata": {
  "kernelspec": {
   "display_name": "SageMath 9.2",
   "language": "sagemath",
   "metadata": {
    "cocalc": {
     "description": "Open-source mathematical software system",
     "priority": 1,
     "url": "https://www.sagemath.org/"
    }
   },
   "name": "sage-9.2",
   "resource_dir": "/ext/jupyter/kernels/sage-9.2"
  },
  "language_info": {
   "codemirror_mode": {
    "name": "ipython",
    "version": 3
   },
   "file_extension": ".py",
   "mimetype": "text/x-python",
   "name": "python",
   "nbconvert_exporter": "python",
   "pygments_lexer": "ipython3",
   "version": "3.8.10"
  }
 },
 "nbformat": 4,
 "nbformat_minor": 4
}
