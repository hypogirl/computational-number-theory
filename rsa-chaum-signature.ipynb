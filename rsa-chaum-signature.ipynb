{
 "cells": [
  {
   "cell_type": "markdown",
   "metadata": {},
   "source": [
    "<h1>\n",
    "    RSA and Chaun digital signature\n",
    "</h1>"
   ]
  },
  {
   "cell_type": "code",
   "execution_count": 3,
   "metadata": {
    "collapsed": false
   },
   "outputs": [],
   "source": [
    "import hashlib\n",
    "load(\"gordon-method.sage\")"
   ]
  },
  {
   "cell_type": "code",
   "execution_count": 4,
   "metadata": {
    "collapsed": false
   },
   "outputs": [
    {
     "name": "stdout",
     "output_type": "stream",
     "text": [
      "Message: 35365363858524341 \n",
      "Public Key: (51771206604360525161990241883317179956739649476675431959890467, 19337260559868318405623523998808080601193432347011733058238153) \n",
      "Private Key: 24221525131288682421688890039664900500938282867071881185355017\n",
      "\n",
      "Signature: 24669956337935742399197539345883952766121146575481159035789732 \n",
      "Verification: 8641103000412672367787780652358854833992571982267342443577520\n",
      "Verified signature? True\n",
      "\n",
      "Blind signature: 48551489418057208357703886856098719699329983511268876429898582\n",
      "\n",
      "Decrypted message: 35365363858524341\n"
     ]
    }
   ],
   "source": [
    "def generate_keys(nbits):\n",
    "    p,q = gordon(nbits),gordon(nbits)\n",
    "    n = p * q\n",
    "    n = int(n)\n",
    "    m = (p - 1) * (q - 1)\n",
    "    Zm = IntegerModRing(m)\n",
    "    Zn = IntegerModRing(n)\n",
    "    e = Zm.random_element()\n",
    "    while gcd(e,m) != 1:\n",
    "        e = Zm.random_element()\n",
    "    d = 1/e\n",
    "    e = int(e)\n",
    "    d = int(d)\n",
    "    return (n,e),d\n",
    "\n",
    "def encrypt(PrivateKey, PublicKey, m):\n",
    "    n,e = PublicKey\n",
    "    c = power_mod(int(m),e,n)\n",
    "    c = int(c)\n",
    "    return c, sign(PrivateKey, PublicKey, m), blind_sign(int(m),PublicKey, PrivateKey)\n",
    "\n",
    "def decrypt(PublicKey, PrivateKey, c):\n",
    "    n,e = PublicKey\n",
    "    m = power_mod(c,PrivateKey,n)\n",
    "    return m, verify(PublicKey, PrivateKey, m)\n",
    "\n",
    "def sign(PrivateKey, PublicKey, m):\n",
    "    n,e = PublicKey\n",
    "    hash_m = hashlib.sha256(bytes(str(m), encoding='utf-8')).hexdigest()\n",
    "    hash_m = int(hash_m,16)\n",
    "    return power_mod(hash_m,PrivateKey,n)\n",
    "\n",
    "def verify(PublicKey, PrivateKey, m):\n",
    "    n,e = PublicKey\n",
    "    hash_m = hashlib.sha256(bytes(str(m), encoding='utf-8')).hexdigest()\n",
    "    hash_m = int(hash_m,16)\n",
    "    return power_mod(hash_m,e,n)\n",
    "\n",
    "def blind_sign(m,PublicKey,PrivateKey):\n",
    "    n,e = PublicKey\n",
    "    Zn = IntegerModRing(n)\n",
    "    r = Zn.random_element()\n",
    "    while gcd(r,n) != 1:\n",
    "        r = Zn.random_element()\n",
    "    blind_message = m*pow(r,e)\n",
    "    s2 = pow(blind_message,PrivateKey)\n",
    "    signature = s2*(1/r)\n",
    "    return signature\n",
    "    \n",
    "    \n",
    "def main():\n",
    "    message = '35365363858524341'\n",
    "    nbits = 100\n",
    "    PublicKey, PrivateKey = generate_keys(nbits)\n",
    "    c, signature, blind_signature = encrypt(PrivateKey, PublicKey, message)\n",
    "    m_decrypted, verification = decrypt(PublicKey, PrivateKey, c)\n",
    "\n",
    "    print(\"Message:\",message,\"\\nPublic Key:\",PublicKey,\"\\nPrivate Key:\",PrivateKey)\n",
    "    print(\"\\nSignature:\",signature,\"\\nVerification:\",verification)\n",
    "    print(\"Verified signature?\", power_mod(signature,PublicKey[1],PublicKey[0]) == power_mod(verification,PrivateKey,PublicKey[0]))\n",
    "    print(\"\\nBlind signature:\",blind_signature)\n",
    "    print(\"\\nDecrypted message:\",m_decrypted)\n",
    "    \n",
    "main()"
   ]
  }
 ],
 "metadata": {
  "kernelspec": {
   "display_name": "SageMath 9.2",
   "language": "sagemath",
   "metadata": {
    "cocalc": {
     "description": "Open-source mathematical software system",
     "priority": 1,
     "url": "https://www.sagemath.org/"
    }
   },
   "name": "sage-9.2",
   "resource_dir": "/ext/jupyter/kernels/sage-9.2"
  },
  "language_info": {
   "codemirror_mode": {
    "name": "ipython",
    "version": 3
   },
   "file_extension": ".py",
   "mimetype": "text/x-python",
   "name": "python",
   "nbconvert_exporter": "python",
   "pygments_lexer": "ipython3",
   "version": "3.8.10"
  }
 },
 "nbformat": 4,
 "nbformat_minor": 4
}
