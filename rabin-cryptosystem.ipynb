{
 "cells": [
  {
   "cell_type": "markdown",
   "metadata": {},
   "source": [
    "<h1>\n",
    "    Rabin Cryptosystem\n",
    "</h1>"
   ]
  },
  {
   "cell_type": "code",
   "execution_count": null,
   "metadata": {},
   "outputs": [],
   "source": [
    "load(\"hw1.sage\")"
   ]
  },
  {
   "cell_type": "code",
   "execution_count": 11,
   "metadata": {
    "cocalc": {
     "outputs": {
      "0": {
       "name": "input",
       "opts": {
        "password": false,
        "prompt": "Message (integers only)? "
       },
       "output_type": "stream",
       "value": "1234"
      },
      "1": {
       "name": "input",
       "opts": {
        "password": false,
        "prompt": "Number of bits? "
       },
       "output_type": "stream",
       "value": "100"
      }
     }
    },
    "collapsed": false
   },
   "outputs": [
    {
     "name": "stdout",
     "output_type": "stream",
     "text": [
      "Message (integers only)?  1234"
     ]
    },
    {
     "name": "stdout",
     "output_type": "stream",
     "text": [
      "Number of bits?  100"
     ]
    },
    {
     "name": "stdout",
     "output_type": "stream",
     "text": [
      "\n",
      "Message: 1234 \n",
      "Public Key: 44904633121000969856821998033935169022890821495359960370130431711 \n",
      "Private Key: (178591264406912037699409331196001, 251438015572182828524295950075711)\n",
      "\n",
      "\n",
      "Decrypted message alternatives: \n",
      "1: 12341234 \n",
      "2: 44904633121000969856821998033935169022890821495359960370118090477 \n",
      "3: 28546400827261151029688416719181478845956923338743572022612034964 \n",
      "4: 16358232293739818827133581314753690176933898156616388347518396747\n"
     ]
    }
   ],
   "source": [
    "def generate_keys(nbits):\n",
    "    p = int(gordon(nbits))\n",
    "    q = int(gordon(nbits))\n",
    "    \n",
    "    n = p*q\n",
    "    \n",
    "    return n,(p,q)\n",
    "\n",
    "def encrypt_message(PublicKey,message):\n",
    "    encoded = int(str(message)*2)\n",
    "    c = int(power_mod(encoded,2,PublicKey))\n",
    "    return c\n",
    "\n",
    "def decrypt_message(n,PrivateKey,c):\n",
    "    p,q = PrivateKey\n",
    "    mp = int(sqrt(c)) % p\n",
    "    mq = int(sqrt(c)) % q\n",
    "    \n",
    "    x,a,b = xgcd(p,q)     # a*p + b*q = 1\n",
    "    \n",
    "    m1 = (a * p * mq + b * q * mp) % n\n",
    "    m2 = n - m1\n",
    "    m3 = (a * p * mq - b * q * mp) % n\n",
    "    m4 = n - m3\n",
    "    return m1,m2,m3,m4\n",
    "\n",
    "def main():\n",
    "    message = int(input(\"Message (integers only)? \"))\n",
    "    nbits = int(input(\"Number of bits? \"))\n",
    "    PublicKey,PrivateKey = generate_keys(nbits)\n",
    "    c = encrypt_message(PublicKey, message)\n",
    "    m1,m2,m3,m4 = decrypt_message(PublicKey,PrivateKey,c)\n",
    "    print(\"\\nMessage:\",message,\"\\nPublic Key:\",PublicKey,\"\\nPrivate Key:\",PrivateKey)\n",
    "    if Integer(str(message)*2).nbits() >= nbits:\n",
    "        print(\"\\n\\nNote: the number of bits of the encrypted message is greater or equal to the number of bits of the keys, which may cause the decryption not to work properly!\")\n",
    "    print(\"\\n\\nDecrypted message alternatives:\",\"\\n1:\",m1,\"\\n2:\",m2,\"\\n3:\",m3,\"\\n4:\",m4)\n",
    "   \n",
    "main()"
   ]
  }
 ],
 "metadata": {
  "kernelspec": {
   "display_name": "SageMath 9.2",
   "language": "sagemath",
   "metadata": {
    "cocalc": {
     "description": "Open-source mathematical software system",
     "priority": 1,
     "url": "https://www.sagemath.org/"
    }
   },
   "name": "sage-9.2",
   "resource_dir": "/ext/jupyter/kernels/sage-9.2"
  },
  "language_info": {
   "codemirror_mode": {
    "name": "ipython",
    "version": 3
   },
   "file_extension": ".py",
   "mimetype": "text/x-python",
   "name": "python",
   "nbconvert_exporter": "python",
   "pygments_lexer": "ipython3",
   "version": "3.8.10"
  }
 },
 "nbformat": 4,
 "nbformat_minor": 4
}
